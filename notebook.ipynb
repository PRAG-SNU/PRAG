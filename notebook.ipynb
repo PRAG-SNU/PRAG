{
 "cells": [
  {
   "cell_type": "markdown",
   "id": "8bf40a55-069e-4c3a-b2b6-9de4e58b9f97",
   "metadata": {},
   "source": [
    "# Basic Setting"
   ]
  },
  {
   "cell_type": "code",
   "execution_count": 1,
   "id": "40d0509e-d689-4c73-8d52-8014709ec2b3",
   "metadata": {},
   "outputs": [],
   "source": [
    "import os\n",
    "import pandas as pd\n",
    "from tqdm.auto import tqdm\n",
    "import pickle\n",
    "from datetime import datetime, timedelta\n",
    "from dateutil.relativedelta import relativedelta\n",
    "from pytz import timezone\n",
    "\n",
    "# OpenAI + Langchain\n",
    "from openai import OpenAI\n",
    "from langchain.embeddings.openai import OpenAIEmbeddings\n",
    "from langchain.chat_models import ChatOpenAI\n",
    "from langchain.vectorstores import Chroma\n",
    "from langchain.text_splitter import RecursiveCharacterTextSplitter\n",
    "from langchain.prompts import PromptTemplate\n",
    "from langchain.chains import RetrievalQA, LLMChain\n",
    "\n",
    "import warnings\n",
    "warnings.filterwarnings('ignore')\n",
    "\n",
    "# API Key Configuration\n",
    "OPENAI_API_KEY = \"your_openai_api_key_here\"\n",
    "os.environ[\"OPENAI_API_KEY\"] = OPENAI_API_KEY\n",
    "\n",
    "# Default data path\n",
    "DATA_PATH = \"/path/to/data/directory\"\n",
    "DB_DIRECTORY = \"/path/to/database/directory\"\n",
    "MODEL_NAME = \"gpt-4o\"  # or 'gpt-3.5-turbo', etc.\n",
    "\n",
    "\n",
    "class DataRepository:\n",
    "    def __init__(self, default_path):\n",
    "        self.default_path = default_path\n",
    "    \n",
    "    def load_data(self, filename):\n",
    "        file_path = os.path.join(self.default_path, filename)\n",
    "        with open(file_path, 'rb') as file:\n",
    "            return pickle.load(file)\n",
    "\n",
    "    def save_data(self, data, filename):\n",
    "        file_path = os.path.join(self.default_path, filename)\n",
    "        with open(file_path, 'wb') as file:\n",
    "            pickle.dump(data, file)"
   ]
  },
  {
   "cell_type": "markdown",
   "id": "a817d959-c9d7-44ba-a761-b85ff91a655e",
   "metadata": {},
   "source": [
    "## RAGAssistant"
   ]
  },
  {
   "cell_type": "code",
   "execution_count": 2,
   "id": "85d0d635-1012-47ee-bd03-649c45115387",
   "metadata": {},
   "outputs": [],
   "source": [
    "class RAGAssistant:\n",
    "    def __init__(self, llm, retriever, checkpoint_path):\n",
    "        self.llm = llm\n",
    "        self.retriever = retriever\n",
    "        self.checkpoint_path = checkpoint_path\n",
    "\n",
    "    def inference(self, df, prompt, iteration, checkpoint=False, init=False):\n",
    "        df_temp = df.copy()\n",
    "        result_col = 'base_answer' if init else f'rag_answer_{iteration}'\n",
    "        source_col = f'rag_source_{iteration}'\n",
    "        \n",
    "        rag_template = prompt + \"\"\"    \n",
    "        Retrieved Context: {context}\n",
    "        Question: {question}\n",
    "        Answer:\"\"\"\n",
    "\n",
    "        QA_CHAIN_PROMPT = PromptTemplate(template=rag_template, input_variables=['context', 'question'])\n",
    "        qa_chain = RetrievalQA.from_chain_type(\n",
    "            llm=self.llm, \n",
    "            retriever=self.retriever, \n",
    "            return_source_documents = True,\n",
    "            chain_type_kwargs={\"prompt\": QA_CHAIN_PROMPT}\n",
    "        )\n",
    "        \n",
    "        for question in tqdm(df_temp['question']):\n",
    "            response = qa_chain(question)\n",
    "            df_temp.loc[df_temp['question'] == question, result_col] = response['result']\n",
    "            df_temp.loc[df_temp['question'] == question, source_col] = response['source_documents'][0].metadata['source']\n",
    "            \n",
    "            if checkpoint:\n",
    "                df_temp.to_csv(self.checkpoint_path, index=False)\n",
    "                \n",
    "        return df_temp"
   ]
  },
  {
   "cell_type": "markdown",
   "id": "edf2b3be-37e4-4e8c-96b4-f249acd82579",
   "metadata": {},
   "source": [
    "## RAGEvaluator"
   ]
  },
  {
   "cell_type": "code",
   "execution_count": 3,
   "id": "f7e7adac-1435-4dbc-8b12-1bb652bfd976",
   "metadata": {},
   "outputs": [],
   "source": [
    "class RAGEvaluator:\n",
    "    def __init__(self, llm, retriever, checkpoint_path):\n",
    "        self.llm = llm\n",
    "        self.retriever = retriever\n",
    "        self.criteria = [\n",
    "            'Scientific Accuracy and Depth', 'Alignment with Research Objectives',\n",
    "            'Source Clarity and Reliability', 'Professional Engagement', 'Information Fidelity'\n",
    "        ]\n",
    "        self.checkpoint_path = checkpoint_path\n",
    "\n",
    "    def eval_answer(self, llm_question, llm_ans):\n",
    "        eval_prompt =  f\"\"\"\n",
    "        As a leading researcher in plant physiology with a focus on photosynthesis, you are considering using a language model to refine research ideas and guide projects. To ensure responses are of the highest quality and relevance, and to avoid score inflation, assess each response according to the following criteria:\n",
    "        \n",
    "        **Scoring Metrics**:\n",
    "        1. **Scientific Accuracy and Depth** : Evaluate how accurately the response reflects current scientific understanding and its depth concerning photosynthesis. Score from 1 to 10, where 10 indicates perfect accuracy and depth, and 1 indicates major inaccuracies or superficial information.\n",
    "        2. **Alignment with Research Objectives** : Determine how well the response aligns with specific research objectives within plant physiology and photosynthesis. Score from 1 to 10, with 10 being perfectly aligned and 1 being irrelevant.\n",
    "        3. **Source Clarity and Reliability** : Assess the clarity and accuracy of the source citations used in the response, such as specific studies, data sets, or scientific theories. Rate from 1 to 10, where 10 signifies sources are cited with exceptional clarity and reliability, and 1 where citations are poor or missing.\n",
    "        4. **Professional Engagement** : Evaluate the professional tone of the response and its suitability for academic discussions among experts in photosynthesis. A score of 10 suggests an expert-level dialogue, while 1 suggests a non-professional or irrelevant tone.\n",
    "        5. **Information Fidelity** : Check the fidelity of the information provided by evaluating its accuracy and the absence of fabricated content not supported by source material. Score from 1 to 10, where 10 indicates high fidelity and 1 indicates significant errors or fabrications.\n",
    "        \n",
    "        **Evaluation Instructions**:\n",
    "        1. Focus on accuracy, clarity, depth, fidelity, and professional engagement without considering response length.\n",
    "        2. A score above 5 is considered good; a score of 10 indicates a flawless response.\n",
    "\n",
    "        **Feedback Guidance**:\n",
    "        After evaluating each response, provide specific suggestions for improvements based on the metrics. Focus exclusively on areas that need enhancement to help achieve higher scores in future evaluations.\n",
    "        Avoid reiterating strengths or commendable aspects of the response. Concentrate on identifying and suggesting practical steps for improvement in each scoring area.\n",
    "        Ensure your feedback aims to enhance the quality, clarity, and depth of future interactions with the subject to mitigate any bias and to drive meaningful advancement in the field of photosynthesis research.\n",
    "            \n",
    "        Question toward LLM : {llm_question}\n",
    "        \"\"\"\n",
    "        \n",
    "        eval_template = eval_prompt + \"\"\"\n",
    "        Retrieved Context : {context}\n",
    "        LLM's Answer : {question}\n",
    "        \n",
    "        The format of answer will be as below: You must follow this format strictly\n",
    "        ``\n",
    "        Scientific Accuracy and Depth : []\n",
    "        Alignment with Research Objectives : []\n",
    "        Source Clarity and Reliability : []\n",
    "        Professional Engagement : []\n",
    "        Information Fidelity : []\n",
    "        Feedback : []\n",
    "        ``\n",
    "        `\"\"\"\n",
    "\n",
    "        \n",
    "        QA_CHAIN_PROMPT = PromptTemplate(\n",
    "            template = eval_template,\n",
    "            input_variables = [\n",
    "                'context',\n",
    "                'question'\n",
    "            ])\n",
    "        \n",
    "        qa_chain = RetrievalQA.from_chain_type(llm=self.llm, retriever=self.retriever, chain_type_kwargs = {\"prompt\" : QA_CHAIN_PROMPT})\n",
    "    \n",
    "        response = qa_chain(llm_ans)\n",
    "    \n",
    "        return response['result']\n",
    "\n",
    "\n",
    "    def score_parsing(self, response, criterion):\n",
    "        try:\n",
    "            score = int(response.split(criterion+' : [')[1][0])\n",
    "        except:\n",
    "            score = int(response.split(criterion+': [')[1][0])\n",
    "        return score\n",
    "\n",
    "    \n",
    "    def feedback_parsing(self, response):\n",
    "        try:\n",
    "            feedback = response[response.index('Feedback : ')+len('Feedback : '):].strip()\n",
    "        except:\n",
    "            try:\n",
    "                feedback = response[response.index('Feedback: ')+len('Feedback: '):].strip()\n",
    "            except:\n",
    "                feedback = 'none'\n",
    "        return feedback\n",
    "\n",
    "\n",
    "    def eval_process(self, df, iteration, check_point = False, init=False):\n",
    "        df_temp = df.copy()\n",
    "        col = 'base_score' if init else f'rag_score_{iteration}'\n",
    "        ans_col = 'base_answer' if init else f'rag_answer_{iteration}'\n",
    "      \n",
    "        df_temp[col] = 'n'\n",
    "        df_temp[col] = df_temp[col].astype(object)\n",
    "        \n",
    "        indices = list(df_temp[df_temp[col] == 'n'].index)\n",
    "        \n",
    "        while indices:\n",
    "            for i in tqdm(indices):\n",
    "                eval_result = self.eval_answer(df_temp.iloc[i]['question'], df_temp.iloc[i][ans_col])\n",
    "                score_dict = {}\n",
    "                try:\n",
    "                    for crit in self.criteria:\n",
    "                        score_dict[crit] = self.score_parsing(eval_result, crit)\n",
    "                    score_dict['feedback'] = self.feedback_parsing(eval_result)\n",
    "                    df_temp.at[i, col] = score_dict\n",
    "                except Exception as err:\n",
    "                    print(err)\n",
    "                    \n",
    "            indices = list(df_temp[df_temp[col] == 'n'].index)\n",
    "\n",
    "        if check_point:\n",
    "            df_temp.to_csv(self.checkpoint_path, index = False)\n",
    "        else:\n",
    "            pass\n",
    "        \n",
    "        return df_temp\n",
    "\n",
    "    def summarize_scores(self, df, iteration, init = False):\n",
    "        col = 'base_score' if init else f'rag_score_{iteration}'\n",
    "        feedbacks = ''\n",
    "    \n",
    "        summaries = {crit: pd.Series([df[col].iloc[i][crit] for i in range(len(df))]).describe() for crit in self.criteria}\n",
    "        summaries['Average Score'] = pd.Series(sum([df[col].map(lambda x: x[crit]) for crit in self.criteria])/len(self.criteria)).describe()\n",
    "    \n",
    "        # Filter feedback where the score is less than or equal to Q1 (which is 1 or below)\n",
    "        crit_q1s = {crit : summaries[crit]['25%'] for crit in self.criteria}\n",
    "        under_q1 = {crit: df[df[col].apply(lambda x: x.get(crit, 0) < crit_q1s[crit])].index.tolist() for crit in self.criteria}\n",
    "        feedback_indices = set(num for sublist in under_q1.values() for num in sublist)\n",
    "\n",
    "        print('N of Fail :',len(feedback_indices))\n",
    "        for i in feedback_indices:\n",
    "            feedbacks += df[col].iloc[i]['feedback']\n",
    "            \n",
    "\n",
    "        return summaries, feedbacks\n",
    "\n",
    "    def check_iter_scores(self, df, iteration, init = False):\n",
    "        col = 'base_score' if init else f'rag_score_{iteration}'\n",
    "\n",
    "        iter_score = {crit: [df.iloc[i][col][crit] for i in range(len(df))] for crit in self.criteria}\n",
    "        iter_score['Average Score'] = sum([df[col].map(lambda x: x[crit]) for crit in self.criteria])/len(self.criteria)\n",
    "\n",
    "        print(f'Score Distribution ..................')\n",
    "        print(pd.DataFrame(iter_score).describe())\n",
    "        print()"
   ]
  },
  {
   "cell_type": "markdown",
   "id": "c5f978b8-2f64-4d12-9951-be25ea99990c",
   "metadata": {},
   "source": [
    "## PromptRevisor"
   ]
  },
  {
   "cell_type": "code",
   "execution_count": 4,
   "id": "5744c7a2-01d0-47d6-b019-ec348281a2e2",
   "metadata": {},
   "outputs": [],
   "source": [
    "class PromptRevisionManager:\n",
    "    def __init__(self, llm):\n",
    "        self.llm = llm\n",
    "        self.history = []\n",
    "\n",
    "    def revise_prompt(self, prev_prompt, prev_scores, current_scores, feedbacks):\n",
    "        comparison_lines = []\n",
    "        \n",
    "        for criterion in prev_scores.keys():\n",
    "            line = f\"[{criterion}] \\nPrev (mean: {prev_scores[criterion]['mean']}, std: {prev_scores[criterion]['std']}, min: {prev_scores[criterion]['min']}, q2: {prev_scores[criterion]['50%']}, max: {prev_scores[criterion]['max']}) \\n-> Current (mean: {current_scores[criterion]['mean']}, std: {current_scores[criterion]['std']}, min: {current_scores[criterion]['min']}, q2: {current_scores[criterion]['50%']}, max: {current_scores[criterion]['max']})\"\n",
    "            comparison_lines.append(line)\n",
    "        \n",
    "        score_info = \"Previous Guideline: \" + prev_prompt + \"\\n\" + \"\\n\".join(comparison_lines) + \"\\nFeedbacks: \" + feedbacks\n",
    "        #print(score_info)\n",
    "        \n",
    "        revise_template = \"\"\"\n",
    "        Evaluation Results : {question}\n",
    "        \n",
    "        You have received feedback and performance scores from an AI research assistant's responses on a photosynthesis study. Your task is to develop guidelines that will enhance the assistant's performance for future interactions. \n",
    "        Examine areas of weakness closely and propose specific, actionable steps for overall improvement. Detailed guidance should be provided for any aspects that are particularly lacking.\n",
    "\n",
    "        Final Format:\n",
    "        'Overall Guideline:'\n",
    "        \"\"\"\n",
    "        \n",
    "        CHAIN_PROMPT = PromptTemplate(template=revise_template, input_variables=[\"question\"])\n",
    "        llm_chain = LLMChain(llm = self.llm, prompt = CHAIN_PROMPT)\n",
    "        response = llm_chain(score_info)\n",
    "    \n",
    "        try:\n",
    "            new_prompt = response['text'][len('Overall Guideline: '):].strip()\n",
    "        except:\n",
    "            new_prompt = response['text'][len('Overall Guideline : '):].strip()\n",
    "\n",
    "        self.history.append(new_prompt)\n",
    "        \n",
    "        return new_prompt\n",
    "\n",
    "    def get_history(self):\n",
    "        return self.history"
   ]
  },
  {
   "cell_type": "markdown",
   "id": "ca0f9057-c551-4d4f-987f-f227c7b56af4",
   "metadata": {},
   "source": [
    "## Prompt Optimization"
   ]
  },
  {
   "cell_type": "code",
   "execution_count": 7,
   "id": "aa0016c4-cc5f-4ebc-b204-872689725f72",
   "metadata": {},
   "outputs": [],
   "source": [
    "class PromptOptimization:\n",
    "    def __init__(self, check_point = False):\n",
    "        self.data_repo = DataRepository(DATA_PATH)\n",
    "        \n",
    "        llm = ChatOpenAI(model_name=MODEL_NAME, temperature=0)\n",
    "        embeddings = OpenAIEmbeddings()\n",
    "        vectordb = Chroma(persist_directory=DB_DIRECTORY, embedding_function=embeddings)\n",
    "        retriever = vectordb.as_retriever()\n",
    "\n",
    "        self.Assistant = RAGAssistant(llm, retriever, checkpoint_path=f\"{DATA_PATH}/temp_checkpoint.csv\")\n",
    "        self.Evaluator = RAGEvaluator(llm, retriever, checkpoint_path=f\"{DATA_PATH}/temp_checkpoint.csv\")\n",
    "        self.PromptRevisor = PromptRevisionManager(llm)\n",
    "        \n",
    "        self.current_prompt = ''\n",
    "        self.current_scores = {}\n",
    "        self.prompt_history = [self.current_prompt, ]  # Initialize the history with the initial prompt\n",
    "\n",
    "        self.check_point = check_point\n",
    "\n",
    "\n",
    "    def Initialize_BaseQA(self, df):\n",
    "        df_temp = df.copy()\n",
    "        \n",
    "        print(f\"########################\\n  Initialize : Base QA\\n########################\")\n",
    "\n",
    "        #Evaluation\n",
    "        print('Evaluation ..................')\n",
    "        df_temp = self.Evaluator.eval_process(df_temp, '', self.check_point, True)\n",
    "        self.current_scores, _ = self.Evaluator.summarize_scores(df_temp, '', True)\n",
    "        self.Evaluator.check_iter_scores(df_temp, '', True)\n",
    "\n",
    "        df_train = df_temp[df_temp['train_test'] == 'train'].reset_index(drop = True)\n",
    "        df_test = df_temp[df_temp['train_test'] == 'test'].reset_index(drop = True)\n",
    "\n",
    "        return df_train, df_test\n",
    "\n",
    "\n",
    "    def run_iterations(self, df, num_iterations):\n",
    "        df_temp = df.copy()\n",
    "        \n",
    "        for iteration in range(1, num_iterations + 1):\n",
    "            print(f\"########################\\n       Iteration {iteration}\\n########################\")\n",
    "            print(f\"Prompt : \\n{self.current_prompt}\\n\")\n",
    "            \n",
    "            prev_scores = self.current_scores\n",
    "\n",
    "            # Inference\n",
    "            print('Inference ..................')\n",
    "            df_temp = self.Assistant.inference(df_temp, self.current_prompt, iteration, self.check_point)\n",
    "\n",
    "            # Evaluation\n",
    "            print('Evaluation ..................')\n",
    "            df_temp = self.Evaluator.eval_process(df_temp, iteration, self.check_point)\n",
    "            self.current_scores, feedbacks = self.Evaluator.summarize_scores(df_temp, iteration)\n",
    "            self.Evaluator.check_iter_scores(df_temp, iteration)\n",
    "\n",
    "            # Prompt Revision and History Update\n",
    "            if iteration < num_iterations:\n",
    "                new_prompt = self.PromptRevisor.revise_prompt(self.current_prompt, prev_scores, self.current_scores, feedbacks)\n",
    "                self.current_prompt = new_prompt\n",
    "                self.prompt_history.append(new_prompt)  # Save each new prompt to history\n",
    "                \n",
    "            # Update previous scores for the next iteration\n",
    "            prev_scores = self.current_scores\n",
    "\n",
    "        return df_temp\n",
    "\n",
    "\n",
    "    def final_evaluation(self, df_test):\n",
    "        df_temp = df_test.copy()\n",
    "        print(f\"########################\\n    Final Evaluation\\n########################\")\n",
    "        print(f\"Prompt : \\n{self.current_prompt}\\n\")\n",
    "\n",
    "        # Inference\n",
    "        print('Inference ..................')\n",
    "        df_temp = self.Assistant.inference(df_temp, self.current_prompt, 'eval', self.check_point)\n",
    "\n",
    "        # Evaluation\n",
    "        print('Evaluation ..................')\n",
    "        df_temp = self.Evaluator.eval_process(df_temp, 'eval')\n",
    "        current_scores, feedbacks = self.Evaluator.summarize_scores(df_temp, 'eval')\n",
    "        self.Evaluator.check_iter_scores(df_temp, 'eval')\n",
    "\n",
    "        return df_temp\n",
    "\n",
    "    def get_current_prompt(self):\n",
    "        return self.current_prompt\n",
    "\n",
    "    def get_prompt_history(self):\n",
    "        return self.prompt_history\n",
    "        \n",
    "    def run(self, df, num_iterations, save_data = False):\n",
    "        df_train, df_test = self.Initialize_BaseQA(df)\n",
    "        final_train_df = self.run_iterations(df_train, num_iterations)\n",
    "        final_test_df = self.final_evaluation(df_test)\n",
    "        prompt_history = self.get_prompt_history()\n",
    "\n",
    "        runtime = datetime.now(timezone('Asia/Seoul')).strftime('%m%d_%H%M')\n",
    "        #print(runtime)\n",
    "        if save_data:\n",
    "            self.data_repo.save_data(final_train_df, filename=f'photosyn_qa_dataset_train_final_{runtime}.pickle')\n",
    "            self.data_repo.save_data(final_test_df, filename=f'photosyn_qa_dataset_test_final_{runtime}.pickle')\n",
    "            self.data_repo.save_data(prompt_history, filename=f'photosyn_qa_prompt_history.pickle')\n",
    "\n",
    "        return final_train_df, final_test_df, prompt_history"
   ]
  },
  {
   "cell_type": "markdown",
   "id": "1b56f18f-bc4b-4d88-a261-4b0932f47f96",
   "metadata": {},
   "source": [
    "# Main"
   ]
  },
  {
   "cell_type": "code",
   "execution_count": 10,
   "id": "cdd26b9a-a243-48e9-ac70-b47874ae69d1",
   "metadata": {},
   "outputs": [
    {
     "name": "stdout",
     "output_type": "stream",
     "text": [
      "########################\n",
      "  Initialize : Base QA\n",
      "########################\n",
      "Evaluation ..................\n"
     ]
    },
    {
     "data": {
      "application/vnd.jupyter.widget-view+json": {
       "model_id": "1ffd167f4ed749b08e61082b1e75ca80",
       "version_major": 2,
       "version_minor": 0
      },
      "text/plain": [
       "  0%|          | 0/150 [00:00<?, ?it/s]"
      ]
     },
     "metadata": {},
     "output_type": "display_data"
    },
    {
     "name": "stdout",
     "output_type": "stream",
     "text": [
      "N of Fail : 37\n",
      "Score Distribution ..................\n",
      "       Scientific Accuracy and Depth  Alignment with Research Objectives  \\\n",
      "count                     150.000000                          150.000000   \n",
      "mean                        7.953333                            8.286667   \n",
      "std                         0.423102                            1.031950   \n",
      "min                         4.000000                            3.000000   \n",
      "25%                         8.000000                            7.000000   \n",
      "50%                         8.000000                            9.000000   \n",
      "75%                         8.000000                            9.000000   \n",
      "max                         9.000000                            9.000000   \n",
      "\n",
      "       Source Clarity and Reliability  Professional Engagement  \\\n",
      "count                      150.000000               150.000000   \n",
      "mean                         6.993333                 7.786667   \n",
      "std                          0.915905                 0.457402   \n",
      "min                          2.000000                 5.000000   \n",
      "25%                          7.000000                 8.000000   \n",
      "50%                          7.000000                 8.000000   \n",
      "75%                          7.000000                 8.000000   \n",
      "max                          9.000000                 8.000000   \n",
      "\n",
      "       Information Fidelity  Average Score  \n",
      "count            150.000000     150.000000  \n",
      "mean               8.693333       7.942667  \n",
      "std                0.634010       0.546538  \n",
      "min                4.000000       3.600000  \n",
      "25%                8.000000       7.700000  \n",
      "50%                9.000000       8.200000  \n",
      "75%                9.000000       8.200000  \n",
      "max                9.000000       8.600000  \n",
      "\n",
      "########################\n",
      "       Iteration 1\n",
      "########################\n",
      "Prompt : \n",
      "\n",
      "\n",
      "Inference ..................\n"
     ]
    },
    {
     "data": {
      "application/vnd.jupyter.widget-view+json": {
       "model_id": "ca8afcfea5384f4ea9c56b95743d3ce1",
       "version_major": 2,
       "version_minor": 0
      },
      "text/plain": [
       "  0%|          | 0/120 [00:00<?, ?it/s]"
      ]
     },
     "metadata": {},
     "output_type": "display_data"
    },
    {
     "name": "stdout",
     "output_type": "stream",
     "text": [
      "Evaluation ..................\n"
     ]
    },
    {
     "data": {
      "application/vnd.jupyter.widget-view+json": {
       "model_id": "b36c33c9fb6948d3b62336246ff0d26b",
       "version_major": 2,
       "version_minor": 0
      },
      "text/plain": [
       "  0%|          | 0/120 [00:00<?, ?it/s]"
      ]
     },
     "metadata": {},
     "output_type": "display_data"
    },
    {
     "name": "stdout",
     "output_type": "stream",
     "text": [
      "list index out of range\n"
     ]
    },
    {
     "data": {
      "application/vnd.jupyter.widget-view+json": {
       "model_id": "d50c0fa8a3004e07979bcbbf45a57a82",
       "version_major": 2,
       "version_minor": 0
      },
      "text/plain": [
       "  0%|          | 0/1 [00:00<?, ?it/s]"
      ]
     },
     "metadata": {},
     "output_type": "display_data"
    },
    {
     "name": "stdout",
     "output_type": "stream",
     "text": [
      "N of Fail : 25\n",
      "Score Distribution ..................\n",
      "       Scientific Accuracy and Depth  Alignment with Research Objectives  \\\n",
      "count                     120.000000                          120.000000   \n",
      "mean                        8.141667                            8.150000   \n",
      "std                         0.350170                            1.585915   \n",
      "min                         8.000000                            1.000000   \n",
      "25%                         8.000000                            7.000000   \n",
      "50%                         8.000000                            9.000000   \n",
      "75%                         8.000000                            9.000000   \n",
      "max                         9.000000                            9.000000   \n",
      "\n",
      "       Source Clarity and Reliability  Professional Engagement  \\\n",
      "count                      120.000000               120.000000   \n",
      "mean                         7.433333                 7.950000   \n",
      "std                          1.157608                 0.313559   \n",
      "min                          1.000000                 7.000000   \n",
      "25%                          7.000000                 8.000000   \n",
      "50%                          7.000000                 8.000000   \n",
      "75%                          9.000000                 8.000000   \n",
      "max                          9.000000                 9.000000   \n",
      "\n",
      "       Information Fidelity  Average Score  \n",
      "count            120.000000     120.000000  \n",
      "mean               8.850000       8.105000  \n",
      "std                0.358569       0.420454  \n",
      "min                8.000000       5.600000  \n",
      "25%                9.000000       8.200000  \n",
      "50%                9.000000       8.200000  \n",
      "75%                9.000000       8.200000  \n",
      "max                9.000000       8.600000  \n",
      "\n",
      "########################\n",
      "       Iteration 2\n",
      "########################\n",
      "Prompt : \n",
      "To enhance the performance of the AI research assistant in future interactions on photosynthesis studies, the following specific actionable steps are recommended:\n",
      "\n",
      "1. Enhance Scientific Accuracy and Depth:\n",
      "- Delve deeper into specific mechanisms and processes related to photosynthesis, such as molecular pathways, enzyme activities, and physiological responses to environmental factors.\n",
      "- Provide more detailed information from specific studies or experiments to support claims and explanations.\n",
      "- Incorporate more recent research findings and advancements in the field to ensure up-to-date and accurate information.\n",
      "\n",
      "2. Alignment with Research Objectives:\n",
      "- Clearly define and address the specific research objectives within plant physiology and photosynthesis in each response.\n",
      "- Link the discussion to broader research goals and focus on how the information provided contributes to advancements in the field.\n",
      "- Provide specific examples or case studies that directly relate to the research objectives to strengthen alignment.\n",
      "\n",
      "3. Source Clarity and Reliability:\n",
      "- Ensure that all sources cited are clearly referenced and directly support the information provided.\n",
      "- Incorporate more recent studies or data sets to enhance the credibility and reliability of the information.\n",
      "- Explicitly mention the studies or data sets that support the information to improve source clarity.\n",
      "\n",
      "4. Professional Engagement:\n",
      "- Maintain a consistent professional tone and structure in the responses, suitable for academic discussions among experts in plant physiology.\n",
      "- Use precise language and technical terms related to photosynthesis processes to engage with the audience effectively.\n",
      "- Provide detailed information with high fidelity to demonstrate expertise and credibility in the field.\n",
      "\n",
      "5. Information Fidelity:\n",
      "- Cross-reference the details provided with recent literature to ensure accuracy and relevance in addressing the challenges and mechanisms related to photosynthesis.\n",
      "- Verify the information fidelity by citing specific studies or data sets and avoiding potential errors or inaccuracies in the responses.\n",
      "- Focus on providing accurate and reliable information by incorporating credible sources and maintaining a high standard of information fidelity.\n",
      "\n",
      "Inference ..................\n"
     ]
    },
    {
     "data": {
      "application/vnd.jupyter.widget-view+json": {
       "model_id": "4e362ff54887472fbb606f07fa6b2f0b",
       "version_major": 2,
       "version_minor": 0
      },
      "text/plain": [
       "  0%|          | 0/120 [00:00<?, ?it/s]"
      ]
     },
     "metadata": {},
     "output_type": "display_data"
    },
    {
     "name": "stdout",
     "output_type": "stream",
     "text": [
      "Evaluation ..................\n"
     ]
    },
    {
     "data": {
      "application/vnd.jupyter.widget-view+json": {
       "model_id": "7a95e21d30294149a6d1828941d7010d",
       "version_major": 2,
       "version_minor": 0
      },
      "text/plain": [
       "  0%|          | 0/120 [00:00<?, ?it/s]"
      ]
     },
     "metadata": {},
     "output_type": "display_data"
    },
    {
     "name": "stdout",
     "output_type": "stream",
     "text": [
      "N of Fail : 28\n",
      "Score Distribution ..................\n",
      "       Scientific Accuracy and Depth  Alignment with Research Objectives  \\\n",
      "count                     120.000000                          120.000000   \n",
      "mean                        8.216667                            8.083333   \n",
      "std                         0.433538                            1.799082   \n",
      "min                         7.000000                            1.000000   \n",
      "25%                         8.000000                            8.000000   \n",
      "50%                         8.000000                            9.000000   \n",
      "75%                         8.000000                            9.000000   \n",
      "max                         9.000000                            9.000000   \n",
      "\n",
      "       Source Clarity and Reliability  Professional Engagement  \\\n",
      "count                       120.00000               120.000000   \n",
      "mean                          7.42500                 7.950000   \n",
      "std                           1.12767                 0.285504   \n",
      "min                           1.00000                 7.000000   \n",
      "25%                           7.00000                 8.000000   \n",
      "50%                           7.00000                 8.000000   \n",
      "75%                           9.00000                 8.000000   \n",
      "max                           9.00000                 9.000000   \n",
      "\n",
      "       Information Fidelity  Average Score  \n",
      "count            120.000000     120.000000  \n",
      "mean               8.900000       8.115000  \n",
      "std                0.301258       0.421013  \n",
      "min                8.000000       5.600000  \n",
      "25%                9.000000       8.200000  \n",
      "50%                9.000000       8.200000  \n",
      "75%                9.000000       8.200000  \n",
      "max                9.000000       8.600000  \n",
      "\n",
      "########################\n",
      "       Iteration 3\n",
      "########################\n",
      "Prompt : \n",
      "To enhance the performance of the AI research assistant in future interactions on photosynthesis studies, the following specific actionable steps are recommended:\n",
      "\n",
      "1. Enhance Scientific Accuracy and Depth:\n",
      "- Delve deeper into specific mechanisms and processes related to photosynthesis, such as molecular pathways, enzyme activities, and physiological responses to environmental factors.\n",
      "- Provide more detailed information from specific studies or experiments to support claims and explanations.\n",
      "- Incorporate more recent research findings and advancements in the field to ensure up-to-date and accurate information.\n",
      "\n",
      "2. Alignment with Research Objectives:\n",
      "- Clearly define and address the specific research objectives within plant physiology and photosynthesis in each response.\n",
      "- Link the discussion to broader research goals and focus on how the information provided contributes to advancements in the field.\n",
      "- Provide specific examples or case studies that directly relate to the research objectives to strengthen alignment.\n",
      "\n",
      "3. Source Clarity and Reliability:\n",
      "- Ensure that all sources cited are clearly referenced and directly support the information provided.\n",
      "- Incorporate more recent studies or data sets to enhance the credibility and reliability of the information.\n",
      "- Explicitly mention the studies or data sets that support the information to improve source clarity.\n",
      "\n",
      "4. Professional Engagement:\n",
      "- Maintain a consistent professional tone and structure in the responses, suitable for academic discussions among experts in plant physiology.\n",
      "- Use precise language and technical terms related to photosynthesis processes to engage with the audience effectively.\n",
      "- Provide detailed information with high fidelity to demonstrate expertise and credibility in the field.\n",
      "\n",
      "5. Information Fidelity:\n",
      "- Cross-reference the details provided with recent literature to ensure accuracy and relevance in addressing the challenges and mechanisms related to photosynthesis.\n",
      "- Verify the information fidelity by citing specific studies or data sets and avoiding potential errors or inaccuracies in the responses.\n",
      "- Focus on providing accurate and reliable information by incorporating credible sources and maintaining a high standard of information fidelity.\n",
      "\n",
      "By following these guidelines and focusing on improving scientific accuracy, alignment with research objectives, source clarity and reliability, professional engagement, and information fidelity, the AI research assistant can enhance its performance in providing insightful and accurate responses on photosynthesis studies.\n",
      "\n",
      "Inference ..................\n"
     ]
    },
    {
     "data": {
      "application/vnd.jupyter.widget-view+json": {
       "model_id": "5a44c3ec02d1400f951b7a14f79ea473",
       "version_major": 2,
       "version_minor": 0
      },
      "text/plain": [
       "  0%|          | 0/120 [00:00<?, ?it/s]"
      ]
     },
     "metadata": {},
     "output_type": "display_data"
    },
    {
     "name": "stdout",
     "output_type": "stream",
     "text": [
      "Evaluation ..................\n"
     ]
    },
    {
     "data": {
      "application/vnd.jupyter.widget-view+json": {
       "model_id": "3fd71dc9bc9e4ee6be704face961ce62",
       "version_major": 2,
       "version_minor": 0
      },
      "text/plain": [
       "  0%|          | 0/120 [00:00<?, ?it/s]"
      ]
     },
     "metadata": {},
     "output_type": "display_data"
    },
    {
     "name": "stdout",
     "output_type": "stream",
     "text": [
      "N of Fail : 23\n",
      "Score Distribution ..................\n",
      "       Scientific Accuracy and Depth  Alignment with Research Objectives  \\\n",
      "count                     120.000000                           120.00000   \n",
      "mean                        8.141667                             8.37500   \n",
      "std                         0.373398                             1.39665   \n",
      "min                         7.000000                             1.00000   \n",
      "25%                         8.000000                             8.00000   \n",
      "50%                         8.000000                             9.00000   \n",
      "75%                         8.000000                             9.00000   \n",
      "max                         9.000000                             9.00000   \n",
      "\n",
      "       Source Clarity and Reliability  Professional Engagement  \\\n",
      "count                      120.000000               120.000000   \n",
      "mean                         7.341667                 7.983333   \n",
      "std                          1.096180                 0.258741   \n",
      "min                          1.000000                 7.000000   \n",
      "25%                          7.000000                 8.000000   \n",
      "50%                          7.000000                 8.000000   \n",
      "75%                          7.250000                 8.000000   \n",
      "max                          9.000000                 9.000000   \n",
      "\n",
      "       Information Fidelity  Average Score  \n",
      "count            120.000000     120.000000  \n",
      "mean               8.866667       8.141667  \n",
      "std                0.766234       0.480473  \n",
      "min                1.000000       4.200000  \n",
      "25%                9.000000       8.200000  \n",
      "50%                9.000000       8.200000  \n",
      "75%                9.000000       8.200000  \n",
      "max                9.000000       8.800000  \n",
      "\n",
      "########################\n",
      "       Iteration 4\n",
      "########################\n",
      "Prompt : \n",
      "To enhance the performance of the AI research assistant in future interactions on photosynthesis studies, the following specific actionable steps are recommended:\n",
      "\n",
      "1. Enhance Scientific Accuracy and Depth:\n",
      "- Delve deeper into specific mechanisms and processes related to photosynthesis, such as molecular pathways, enzyme activities, and physiological responses to environmental factors.\n",
      "- Provide more detailed information from specific studies or experiments to support claims and explanations.\n",
      "- Incorporate more recent research findings and advancements in the field to ensure up-to-date and accurate information.\n",
      "\n",
      "2. Alignment with Research Objectives:\n",
      "- Clearly define and address the specific research objectives within plant physiology and photosynthesis in each response.\n",
      "- Link the discussion to broader research goals and focus on how the information provided contributes to advancements in the field.\n",
      "- Provide specific examples or case studies that directly relate to the research objectives to strengthen alignment.\n",
      "\n",
      "3. Source Clarity and Reliability:\n",
      "- Ensure that all sources cited are clearly referenced and directly support the information provided.\n",
      "- Incorporate more recent studies or data sets to enhance the credibility and reliability of the information.\n",
      "- Explicitly mention the studies or data sets that support the information to improve source clarity.\n",
      "\n",
      "4. Professional Engagement:\n",
      "- Maintain a consistent professional tone and structure in the responses, suitable for academic discussions among experts in plant physiology.\n",
      "- Use precise language and technical terms related to photosynthesis processes to engage with the audience effectively.\n",
      "- Provide detailed information with high fidelity to demonstrate expertise and credibility in the field.\n",
      "\n",
      "5. Information Fidelity:\n",
      "- Cross-reference the details provided with recent literature to ensure accuracy and relevance in addressing the challenges and mechanisms related to photosynthesis.\n",
      "- Verify the information fidelity by citing specific studies or data sets and avoiding potential errors or inaccuracies in the responses.\n",
      "- Focus on providing accurate and reliable information by incorporating credible sources and maintaining a high standard of information fidelity.\n",
      "\n",
      "By following these guidelines and focusing on improving scientific accuracy, alignment with research objectives, source clarity and reliability, professional engagement, and information fidelity, the AI research assistant can enhance its performance in providing insightful and accurate responses on photosynthesis studies.\n",
      "\n",
      "Inference ..................\n"
     ]
    },
    {
     "data": {
      "application/vnd.jupyter.widget-view+json": {
       "model_id": "73c0ac33141f495aa06d957df4de0568",
       "version_major": 2,
       "version_minor": 0
      },
      "text/plain": [
       "  0%|          | 0/120 [00:00<?, ?it/s]"
      ]
     },
     "metadata": {},
     "output_type": "display_data"
    },
    {
     "name": "stdout",
     "output_type": "stream",
     "text": [
      "Evaluation ..................\n"
     ]
    },
    {
     "data": {
      "application/vnd.jupyter.widget-view+json": {
       "model_id": "edaa8ac8a46244d78e2c9cfaed8297b8",
       "version_major": 2,
       "version_minor": 0
      },
      "text/plain": [
       "  0%|          | 0/120 [00:00<?, ?it/s]"
      ]
     },
     "metadata": {},
     "output_type": "display_data"
    },
    {
     "name": "stdout",
     "output_type": "stream",
     "text": [
      "N of Fail : 20\n",
      "Score Distribution ..................\n",
      "       Scientific Accuracy and Depth  Alignment with Research Objectives  \\\n",
      "count                     120.000000                          120.000000   \n",
      "mean                        8.175000                            8.408333   \n",
      "std                         0.402983                            1.212649   \n",
      "min                         7.000000                            1.000000   \n",
      "25%                         8.000000                            8.000000   \n",
      "50%                         8.000000                            9.000000   \n",
      "75%                         8.000000                            9.000000   \n",
      "max                         9.000000                            9.000000   \n",
      "\n",
      "       Source Clarity and Reliability  Professional Engagement  \\\n",
      "count                      120.000000               120.000000   \n",
      "mean                         7.475000                 7.966667   \n",
      "std                          0.969818                 0.257112   \n",
      "min                          6.000000                 7.000000   \n",
      "25%                          7.000000                 8.000000   \n",
      "50%                          7.000000                 8.000000   \n",
      "75%                          9.000000                 8.000000   \n",
      "max                          9.000000                 9.000000   \n",
      "\n",
      "       Information Fidelity  Average Score  \n",
      "count            120.000000     120.000000  \n",
      "mean               8.933333       8.191667  \n",
      "std                0.250490       0.328373  \n",
      "min                8.000000       7.200000  \n",
      "25%                9.000000       8.200000  \n",
      "50%                9.000000       8.200000  \n",
      "75%                9.000000       8.200000  \n",
      "max                9.000000       8.600000  \n",
      "\n",
      "########################\n",
      "       Iteration 5\n",
      "########################\n",
      "Prompt : \n",
      "To enhance the performance of the AI research assistant in future interactions on photosynthesis studies, the following specific actionable steps are recommended:\n",
      "\n",
      "1. Enhance Scientific Accuracy and Depth:\n",
      "- Delve deeper into specific mechanisms and processes related to photosynthesis, such as molecular pathways, enzyme activities, and physiological responses to environmental factors.\n",
      "- Provide more detailed information from specific studies or experiments to support claims and explanations.\n",
      "- Incorporate more recent research findings and advancements in the field to ensure up-to-date and accurate information.\n",
      "\n",
      "2. Alignment with Research Objectives:\n",
      "- Clearly define and address the specific research objectives within plant physiology and photosynthesis in each response.\n",
      "- Link the discussion to broader research goals and focus on how the information provided contributes to advancements in the field.\n",
      "- Provide specific examples or case studies that directly relate to the research objectives to strengthen alignment.\n",
      "\n",
      "3. Source Clarity and Reliability:\n",
      "- Ensure that all sources cited are clearly referenced and directly support the information provided.\n",
      "- Incorporate more recent studies or data sets to enhance the credibility and reliability of the information.\n",
      "- Explicitly mention the studies or data sets that support the information to improve source clarity.\n",
      "\n",
      "4. Professional Engagement:\n",
      "- Maintain a consistent professional tone and structure in the responses, suitable for academic discussions among experts in plant physiology.\n",
      "- Use precise language and technical terms related to photosynthesis processes to engage with the audience effectively.\n",
      "- Provide detailed information with high fidelity to demonstrate expertise and credibility in the field.\n",
      "\n",
      "5. Information Fidelity:\n",
      "- Cross-reference the details provided with recent literature to ensure accuracy and relevance in addressing the challenges and mechanisms related to photosynthesis.\n",
      "- Verify the information fidelity by citing specific studies or data sets and avoiding potential errors or inaccuracies in the responses.\n",
      "- Focus on providing accurate and reliable information by incorporating credible sources and maintaining a high standard of information fidelity.\n",
      "\n",
      "By following these guidelines and focusing on improving scientific accuracy, alignment with research objectives, source clarity and reliability, professional engagement, and information fidelity, the AI research assistant can enhance its performance in providing insightful and accurate responses on photosynthesis studies.\n",
      "\n",
      "Inference ..................\n"
     ]
    },
    {
     "data": {
      "application/vnd.jupyter.widget-view+json": {
       "model_id": "0c68dfc8448849b480cf0cc04a84e3ef",
       "version_major": 2,
       "version_minor": 0
      },
      "text/plain": [
       "  0%|          | 0/120 [00:00<?, ?it/s]"
      ]
     },
     "metadata": {},
     "output_type": "display_data"
    },
    {
     "name": "stdout",
     "output_type": "stream",
     "text": [
      "Evaluation ..................\n"
     ]
    },
    {
     "data": {
      "application/vnd.jupyter.widget-view+json": {
       "model_id": "89d42b480bbd402a9849f6ef5c9ba3c1",
       "version_major": 2,
       "version_minor": 0
      },
      "text/plain": [
       "  0%|          | 0/120 [00:00<?, ?it/s]"
      ]
     },
     "metadata": {},
     "output_type": "display_data"
    },
    {
     "name": "stdout",
     "output_type": "stream",
     "text": [
      "N of Fail : 28\n",
      "Score Distribution ..................\n",
      "       Scientific Accuracy and Depth  Alignment with Research Objectives  \\\n",
      "count                     120.000000                          120.000000   \n",
      "mean                        8.200000                            8.225000   \n",
      "std                         0.401677                            1.416959   \n",
      "min                         8.000000                            1.000000   \n",
      "25%                         8.000000                            8.000000   \n",
      "50%                         8.000000                            9.000000   \n",
      "75%                         8.000000                            9.000000   \n",
      "max                         9.000000                            9.000000   \n",
      "\n",
      "       Source Clarity and Reliability  Professional Engagement  \\\n",
      "count                      120.000000               120.000000   \n",
      "mean                         7.483333                 7.983333   \n",
      "std                          1.173828                 0.258741   \n",
      "min                          1.000000                 7.000000   \n",
      "25%                          7.000000                 8.000000   \n",
      "50%                          7.000000                 8.000000   \n",
      "75%                          9.000000                 8.000000   \n",
      "max                          9.000000                 9.000000   \n",
      "\n",
      "       Information Fidelity  Average Score  \n",
      "count            120.000000     120.000000  \n",
      "mean               8.841667       8.146667  \n",
      "std                0.777799       0.489028  \n",
      "min                1.000000       4.200000  \n",
      "25%                9.000000       8.200000  \n",
      "50%                9.000000       8.200000  \n",
      "75%                9.000000       8.200000  \n",
      "max                9.000000       8.800000  \n",
      "\n",
      "########################\n",
      "       Iteration 6\n",
      "########################\n",
      "Prompt : \n",
      "To enhance the performance of the AI research assistant in future interactions on photosynthesis studies, the following specific actionable steps are recommended:\n",
      "\n",
      "1. Enhance Scientific Accuracy and Depth:\n",
      "- Delve deeper into specific mechanisms and processes related to photosynthesis, such as molecular pathways, enzyme activities, and physiological responses to environmental factors.\n",
      "- Provide more detailed information from specific studies or experiments to support claims and explanations.\n",
      "- Incorporate more recent research findings and advancements in the field to ensure up-to-date and accurate information.\n",
      "\n",
      "2. Alignment with Research Objectives:\n",
      "- Clearly define and address the specific research objectives within plant physiology and photosynthesis in each response.\n",
      "- Link the discussion to broader research goals and focus on how the information provided contributes to advancements in the field.\n",
      "- Provide specific examples or case studies that directly relate to the research objectives to strengthen alignment.\n",
      "\n",
      "3. Source Clarity and Reliability:\n",
      "- Ensure that all sources cited are clearly referenced and directly support the information provided.\n",
      "- Incorporate more recent studies or data sets to enhance the credibility and reliability of the information.\n",
      "- Explicitly mention the studies or data sets that support the information to improve source clarity.\n",
      "\n",
      "4. Professional Engagement:\n",
      "- Maintain a consistent professional tone and structure in the responses, suitable for academic discussions among experts in plant physiology.\n",
      "- Use precise language and technical terms related to photosynthesis processes to engage with the audience effectively.\n",
      "- Provide detailed information with high fidelity to demonstrate expertise and credibility in the field.\n",
      "\n",
      "5. Information Fidelity:\n",
      "- Cross-reference the details provided with recent literature to ensure accuracy and relevance in addressing the challenges and mechanisms related to photosynthesis.\n",
      "- Verify the information fidelity by citing specific studies or data sets and avoiding potential errors or inaccuracies in the responses.\n",
      "- Focus on providing accurate and reliable information by incorporating credible sources and maintaining a high standard of information fidelity.\n",
      "\n",
      "By following these guidelines and focusing on improving scientific accuracy, alignment with research objectives, source clarity and reliability, professional engagement, and information fidelity, the AI research assistant can enhance its performance in providing insightful and accurate responses on photosynthesis studies.\n",
      "\n",
      "Inference ..................\n"
     ]
    },
    {
     "data": {
      "application/vnd.jupyter.widget-view+json": {
       "model_id": "c6cc996749c44e24ac50a58bd2d60dd6",
       "version_major": 2,
       "version_minor": 0
      },
      "text/plain": [
       "  0%|          | 0/120 [00:00<?, ?it/s]"
      ]
     },
     "metadata": {},
     "output_type": "display_data"
    },
    {
     "name": "stdout",
     "output_type": "stream",
     "text": [
      "Evaluation ..................\n"
     ]
    },
    {
     "data": {
      "application/vnd.jupyter.widget-view+json": {
       "model_id": "353c7565216f450e84ebba4881aa5f98",
       "version_major": 2,
       "version_minor": 0
      },
      "text/plain": [
       "  0%|          | 0/120 [00:00<?, ?it/s]"
      ]
     },
     "metadata": {},
     "output_type": "display_data"
    },
    {
     "name": "stdout",
     "output_type": "stream",
     "text": [
      "N of Fail : 25\n",
      "Score Distribution ..................\n",
      "       Scientific Accuracy and Depth  Alignment with Research Objectives  \\\n",
      "count                     120.000000                          120.000000   \n",
      "mean                        8.166667                            8.291667   \n",
      "std                         0.396059                            1.546999   \n",
      "min                         7.000000                            1.000000   \n",
      "25%                         8.000000                            8.000000   \n",
      "50%                         8.000000                            9.000000   \n",
      "75%                         8.000000                            9.000000   \n",
      "max                         9.000000                            9.000000   \n",
      "\n",
      "       Source Clarity and Reliability  Professional Engagement  \\\n",
      "count                      120.000000               120.000000   \n",
      "mean                         7.325000                 7.966667   \n",
      "std                          0.918187                 0.287946   \n",
      "min                          6.000000                 7.000000   \n",
      "25%                          7.000000                 8.000000   \n",
      "50%                          7.000000                 8.000000   \n",
      "75%                          7.000000                 8.000000   \n",
      "max                          9.000000                 9.000000   \n",
      "\n",
      "       Information Fidelity  Average Score  \n",
      "count            120.000000     120.000000  \n",
      "mean               8.908333       8.131667  \n",
      "std                0.289765       0.361599  \n",
      "min                8.000000       7.200000  \n",
      "25%                9.000000       8.200000  \n",
      "50%                9.000000       8.200000  \n",
      "75%                9.000000       8.200000  \n",
      "max                9.000000       8.800000  \n",
      "\n",
      "########################\n",
      "       Iteration 7\n",
      "########################\n",
      "Prompt : \n",
      "To enhance the performance of the AI research assistant in future interactions on photosynthesis studies, the following specific actionable steps are recommended:\n",
      "\n",
      "1. Enhance Scientific Accuracy and Depth:\n",
      "- Delve deeper into specific mechanisms and processes related to photosynthesis, providing more detailed information from specific studies or experiments to support claims and explanations.\n",
      "- Incorporate more recent research findings and advancements in the field to ensure up-to-date and accurate information.\n",
      "\n",
      "2. Alignment with Research Objectives:\n",
      "- Clearly define and address the specific research objectives within plant physiology and photosynthesis in each response.\n",
      "- Link the discussion to broader research goals and focus on how the information provided contributes to advancements in the field.\n",
      "- Provide specific examples or case studies that directly relate to the research objectives to strengthen alignment.\n",
      "\n",
      "3. Source Clarity and Reliability:\n",
      "- Ensure that all sources cited are clearly referenced and directly support the information provided.\n",
      "- Incorporate more recent studies or data sets to enhance the credibility and reliability of the information.\n",
      "- Explicitly mention the studies or data sets that support the information to improve source clarity.\n",
      "\n",
      "4. Professional Engagement:\n",
      "- Maintain a consistent professional tone and structure in the responses, suitable for academic discussions among experts in plant physiology.\n",
      "- Use precise language and technical terms related to photosynthesis processes to engage with the audience effectively.\n",
      "- Provide detailed information with high fidelity to demonstrate expertise and credibility in the field.\n",
      "\n",
      "5. Information Fidelity:\n",
      "- Cross-reference the details provided with recent literature to ensure accuracy and relevance in addressing the challenges and mechanisms related to photosynthesis.\n",
      "- Verify the information fidelity by citing specific studies or data sets and avoiding potential errors or inaccuracies in the responses.\n",
      "- Focus on providing accurate and reliable information by incorporating credible sources and maintaining a high standard of information fidelity.\n",
      "\n",
      "By following these guidelines and focusing on improving scientific accuracy, alignment with research objectives, source clarity and reliability, professional engagement, and information fidelity, the AI research assistant can enhance its performance in providing insightful and accurate responses on photosynthesis studies.\n",
      "\n",
      "Inference ..................\n"
     ]
    },
    {
     "data": {
      "application/vnd.jupyter.widget-view+json": {
       "model_id": "1bcc996b0cc248a3a8b22f3b2e0e789e",
       "version_major": 2,
       "version_minor": 0
      },
      "text/plain": [
       "  0%|          | 0/120 [00:00<?, ?it/s]"
      ]
     },
     "metadata": {},
     "output_type": "display_data"
    },
    {
     "name": "stdout",
     "output_type": "stream",
     "text": [
      "Evaluation ..................\n"
     ]
    },
    {
     "data": {
      "application/vnd.jupyter.widget-view+json": {
       "model_id": "8105ee59e0cf43ffa7fa8158b85169c8",
       "version_major": 2,
       "version_minor": 0
      },
      "text/plain": [
       "  0%|          | 0/120 [00:00<?, ?it/s]"
      ]
     },
     "metadata": {},
     "output_type": "display_data"
    },
    {
     "name": "stdout",
     "output_type": "stream",
     "text": [
      "N of Fail : 26\n",
      "Score Distribution ..................\n",
      "       Scientific Accuracy and Depth  Alignment with Research Objectives  \\\n",
      "count                     120.000000                          120.000000   \n",
      "mean                        8.141667                            8.308333   \n",
      "std                         0.373398                            1.413000   \n",
      "min                         7.000000                            1.000000   \n",
      "25%                         8.000000                            8.000000   \n",
      "50%                         8.000000                            9.000000   \n",
      "75%                         8.000000                            9.000000   \n",
      "max                         9.000000                            9.000000   \n",
      "\n",
      "       Source Clarity and Reliability  Professional Engagement  \\\n",
      "count                      120.000000               120.000000   \n",
      "mean                         7.508333                 7.983333   \n",
      "std                          0.952624                 0.289402   \n",
      "min                          6.000000                 7.000000   \n",
      "25%                          7.000000                 8.000000   \n",
      "50%                          7.000000                 8.000000   \n",
      "75%                          9.000000                 8.000000   \n",
      "max                          9.000000                 9.000000   \n",
      "\n",
      "       Information Fidelity  Average Score  \n",
      "count            120.000000     120.000000  \n",
      "mean               8.900000       8.168333  \n",
      "std                0.301258       0.322799  \n",
      "min                8.000000       7.200000  \n",
      "25%                9.000000       8.200000  \n",
      "50%                9.000000       8.200000  \n",
      "75%                9.000000       8.200000  \n",
      "max                9.000000       8.800000  \n",
      "\n",
      "########################\n",
      "       Iteration 8\n",
      "########################\n",
      "Prompt : \n",
      "To enhance the performance of the AI research assistant in future interactions on photosynthesis studies, the following specific actionable steps are recommended:\n",
      "\n",
      "1. Enhance Scientific Accuracy and Depth:\n",
      "- Provide specific examples or case studies related to the topic to support claims and explanations.\n",
      "- Delve deeper into specific mechanisms and processes related to photosynthesis.\n",
      "- Incorporate more recent research findings and advancements in the field to ensure up-to-date and accurate information.\n",
      "\n",
      "2. Alignment with Research Objectives:\n",
      "- Clearly define and address the specific research objectives within plant physiology and photosynthesis in each response.\n",
      "- Link the discussion to broader research goals and focus on how the information provided contributes to advancements in the field.\n",
      "- Discuss potential research gaps or innovative approaches to further align with research objectives.\n",
      "\n",
      "3. Source Clarity and Reliability:\n",
      "- Ensure all sources cited are clearly referenced and directly support the information provided.\n",
      "- Incorporate more recent studies or data sets to enhance credibility and reliability.\n",
      "- Explicitly mention the studies or data sets that support the information to improve source clarity.\n",
      "\n",
      "4. Professional Engagement:\n",
      "- Maintain a consistent professional tone and structure in the responses, suitable for academic discussions among experts in plant physiology.\n",
      "- Use precise language and technical terms related to photosynthesis processes to engage with the audience effectively.\n",
      "- Provide detailed information with high fidelity to demonstrate expertise and credibility in the field.\n",
      "\n",
      "5. Information Fidelity:\n",
      "- Cross-reference the details provided with recent literature to ensure accuracy and relevance in addressing the challenges and mechanisms related to photosynthesis.\n",
      "- Verify the information fidelity by citing specific studies or data sets and avoiding potential errors or inaccuracies in the responses.\n",
      "- Focus on providing accurate and reliable information by incorporating credible sources and maintaining a high standard of information fidelity.\n",
      "\n",
      "By following these guidelines and focusing on improving scientific accuracy, alignment with research objectives, source clarity and reliability, professional engagement, and information fidelity, the AI research assistant can enhance its performance in providing insightful and accurate responses on photosynthesis studies.\n",
      "\n",
      "Inference ..................\n"
     ]
    },
    {
     "data": {
      "application/vnd.jupyter.widget-view+json": {
       "model_id": "90e2ad101d6444f79911548029c6757f",
       "version_major": 2,
       "version_minor": 0
      },
      "text/plain": [
       "  0%|          | 0/120 [00:00<?, ?it/s]"
      ]
     },
     "metadata": {},
     "output_type": "display_data"
    },
    {
     "name": "stdout",
     "output_type": "stream",
     "text": [
      "Evaluation ..................\n"
     ]
    },
    {
     "data": {
      "application/vnd.jupyter.widget-view+json": {
       "model_id": "d018c9b46939432884b3e3bfe005ec74",
       "version_major": 2,
       "version_minor": 0
      },
      "text/plain": [
       "  0%|          | 0/120 [00:00<?, ?it/s]"
      ]
     },
     "metadata": {},
     "output_type": "display_data"
    },
    {
     "name": "stdout",
     "output_type": "stream",
     "text": [
      "N of Fail : 22\n",
      "Score Distribution ..................\n",
      "       Scientific Accuracy and Depth  Alignment with Research Objectives  \\\n",
      "count                     120.000000                          120.000000   \n",
      "mean                        8.158333                            8.525000   \n",
      "std                         0.388832                            0.755512   \n",
      "min                         7.000000                            7.000000   \n",
      "25%                         8.000000                            8.000000   \n",
      "50%                         8.000000                            9.000000   \n",
      "75%                         8.000000                            9.000000   \n",
      "max                         9.000000                            9.000000   \n",
      "\n",
      "       Source Clarity and Reliability  Professional Engagement  \\\n",
      "count                      120.000000               120.000000   \n",
      "mean                         7.433333                 7.966667   \n",
      "std                          0.932453                 0.257112   \n",
      "min                          6.000000                 7.000000   \n",
      "25%                          7.000000                 8.000000   \n",
      "50%                          7.000000                 8.000000   \n",
      "75%                          8.000000                 8.000000   \n",
      "max                          9.000000                 9.000000   \n",
      "\n",
      "       Information Fidelity  Average Score  \n",
      "count            120.000000     120.000000  \n",
      "mean               8.900000       8.196667  \n",
      "std                0.301258       0.295607  \n",
      "min                8.000000       7.200000  \n",
      "25%                9.000000       8.200000  \n",
      "50%                9.000000       8.200000  \n",
      "75%                9.000000       8.200000  \n",
      "max                9.000000       8.800000  \n",
      "\n",
      "########################\n",
      "       Iteration 9\n",
      "########################\n",
      "Prompt : \n",
      "To enhance the performance of the AI research assistant in future interactions on photosynthesis studies, the following specific actionable steps are recommended:\n",
      "\n",
      "1. Enhance Scientific Accuracy and Depth:\n",
      "- Provide specific examples or case studies related to the topic to support claims and explanations.\n",
      "- Delve deeper into specific mechanisms and processes related to photosynthesis.\n",
      "- Incorporate more recent research findings and advancements in the field to ensure up-to-date and accurate information.\n",
      "\n",
      "2. Alignment with Research Objectives:\n",
      "- Clearly define and address the specific research objectives within plant physiology and photosynthesis in each response.\n",
      "- Link the discussion to broader research goals and focus on how the information provided contributes to advancements in the field.\n",
      "- Discuss potential research gaps or innovative approaches to further align with research objectives.\n",
      "\n",
      "3. Source Clarity and Reliability:\n",
      "- Ensure all sources cited are clearly referenced and directly support the information provided.\n",
      "- Incorporate more recent studies or data sets to enhance credibility and reliability.\n",
      "- Explicitly mention the studies or data sets that support the information to improve source clarity.\n",
      "\n",
      "4. Professional Engagement:\n",
      "- Maintain a consistent professional tone and structure in the responses, suitable for academic discussions among experts in plant physiology.\n",
      "- Use precise language and technical terms related to photosynthesis processes to engage with the audience effectively.\n",
      "- Provide detailed information with high fidelity to demonstrate expertise and credibility in the field.\n",
      "\n",
      "5. Information Fidelity:\n",
      "- Cross-reference the details provided with recent literature to ensure accuracy and relevance in addressing the challenges and mechanisms related to photosynthesis.\n",
      "- Verify the information fidelity by citing specific studies or data sets and avoiding potential errors or inaccuracies in the responses.\n",
      "- Focus on providing accurate and reliable information by incorporating credible sources and maintaining a high standard of information fidelity.\n",
      "\n",
      "By following these guidelines and focusing on improving scientific accuracy, alignment with research objectives, source clarity and reliability, professional engagement, and information fidelity, the AI research assistant can enhance its performance in providing insightful and accurate responses on photosynthesis studies.\n",
      "\n",
      "Inference ..................\n"
     ]
    },
    {
     "data": {
      "application/vnd.jupyter.widget-view+json": {
       "model_id": "652a7d87eecd4c80af58466d8dd52968",
       "version_major": 2,
       "version_minor": 0
      },
      "text/plain": [
       "  0%|          | 0/120 [00:00<?, ?it/s]"
      ]
     },
     "metadata": {},
     "output_type": "display_data"
    },
    {
     "name": "stdout",
     "output_type": "stream",
     "text": [
      "Evaluation ..................\n"
     ]
    },
    {
     "data": {
      "application/vnd.jupyter.widget-view+json": {
       "model_id": "d69fc00e6e474251bc4e001a2ea8dd21",
       "version_major": 2,
       "version_minor": 0
      },
      "text/plain": [
       "  0%|          | 0/120 [00:00<?, ?it/s]"
      ]
     },
     "metadata": {},
     "output_type": "display_data"
    },
    {
     "name": "stdout",
     "output_type": "stream",
     "text": [
      "N of Fail : 30\n",
      "Score Distribution ..................\n",
      "       Scientific Accuracy and Depth  Alignment with Research Objectives  \\\n",
      "count                      120.00000                          120.000000   \n",
      "mean                         8.17500                            8.258333   \n",
      "std                          0.38156                            1.558365   \n",
      "min                          8.00000                            1.000000   \n",
      "25%                          8.00000                            8.000000   \n",
      "50%                          8.00000                            9.000000   \n",
      "75%                          8.00000                            9.000000   \n",
      "max                          9.00000                            9.000000   \n",
      "\n",
      "       Source Clarity and Reliability  Professional Engagement  \\\n",
      "count                      120.000000               120.000000   \n",
      "mean                         7.500000                 7.983333   \n",
      "std                          1.130182                 0.258741   \n",
      "min                          1.000000                 7.000000   \n",
      "25%                          7.000000                 8.000000   \n",
      "50%                          7.000000                 8.000000   \n",
      "75%                          9.000000                 8.000000   \n",
      "max                          9.000000                 9.000000   \n",
      "\n",
      "       Information Fidelity  Average Score  \n",
      "count            120.000000     120.000000  \n",
      "mean               8.900000       8.163333  \n",
      "std                0.301258       0.329994  \n",
      "min                8.000000       7.200000  \n",
      "25%                9.000000       8.200000  \n",
      "50%                9.000000       8.200000  \n",
      "75%                9.000000       8.200000  \n",
      "max                9.000000       8.800000  \n",
      "\n",
      "########################\n",
      "       Iteration 10\n",
      "########################\n",
      "Prompt : \n",
      "To enhance the performance of the AI research assistant in future interactions on photosynthesis studies, the following specific actionable steps are recommended:\n",
      "\n",
      "1. Enhance Scientific Accuracy and Depth:\n",
      "- Provide specific examples or case studies related to the topic to support claims and explanations.\n",
      "- Delve deeper into specific mechanisms and processes related to photosynthesis.\n",
      "- Incorporate more recent research findings and advancements in the field to ensure up-to-date and accurate information.\n",
      "\n",
      "2. Alignment with Research Objectives:\n",
      "- Clearly define and address the specific research objectives within plant physiology and photosynthesis in each response.\n",
      "- Link the discussion to broader research goals and focus on how the information provided contributes to advancements in the field.\n",
      "- Discuss potential research gaps or innovative approaches to further align with research objectives.\n",
      "\n",
      "3. Source Clarity and Reliability:\n",
      "- Ensure all sources cited are clearly referenced and directly support the information provided.\n",
      "- Incorporate more recent studies or data sets to enhance credibility and reliability.\n",
      "- Explicitly mention the studies or data sets that support the information to improve source clarity.\n",
      "\n",
      "4. Professional Engagement:\n",
      "- Maintain a consistent professional tone and structure in the responses, suitable for academic discussions among experts in plant physiology.\n",
      "- Use precise language and technical terms related to photosynthesis processes to engage with the audience effectively.\n",
      "- Provide detailed information with high fidelity to demonstrate expertise and credibility in the field.\n",
      "\n",
      "5. Information Fidelity:\n",
      "- Cross-reference the details provided with recent literature to ensure accuracy and relevance in addressing the challenges and mechanisms related to photosynthesis.\n",
      "- Verify the information fidelity by citing specific studies or data sets and avoiding potential errors or inaccuracies in the responses.\n",
      "- Focus on providing accurate and reliable information by incorporating credible sources and maintaining a high standard of information fidelity.\n",
      "\n",
      "By following these guidelines and focusing on improving scientific accuracy, alignment with research objectives, source clarity and reliability, professional engagement, and information fidelity, the AI research assistant can enhance its performance in providing insightful and accurate responses on photosynthesis studies.\n",
      "\n",
      "Inference ..................\n"
     ]
    },
    {
     "data": {
      "application/vnd.jupyter.widget-view+json": {
       "model_id": "c6a9768cb9c54223bc39294be8cef583",
       "version_major": 2,
       "version_minor": 0
      },
      "text/plain": [
       "  0%|          | 0/120 [00:00<?, ?it/s]"
      ]
     },
     "metadata": {},
     "output_type": "display_data"
    },
    {
     "name": "stdout",
     "output_type": "stream",
     "text": [
      "Evaluation ..................\n"
     ]
    },
    {
     "data": {
      "application/vnd.jupyter.widget-view+json": {
       "model_id": "1d212ed6ed81412ea6f87bcdaf6b1a5a",
       "version_major": 2,
       "version_minor": 0
      },
      "text/plain": [
       "  0%|          | 0/120 [00:00<?, ?it/s]"
      ]
     },
     "metadata": {},
     "output_type": "display_data"
    },
    {
     "name": "stdout",
     "output_type": "stream",
     "text": [
      "N of Fail : 28\n",
      "Score Distribution ..................\n",
      "       Scientific Accuracy and Depth  Alignment with Research Objectives  \\\n",
      "count                     120.000000                          120.000000   \n",
      "mean                        8.166667                            8.283333   \n",
      "std                         0.396059                            1.415303   \n",
      "min                         7.000000                            1.000000   \n",
      "25%                         8.000000                            8.000000   \n",
      "50%                         8.000000                            9.000000   \n",
      "75%                         8.000000                            9.000000   \n",
      "max                         9.000000                            9.000000   \n",
      "\n",
      "       Source Clarity and Reliability  Professional Engagement  \\\n",
      "count                      120.000000               120.000000   \n",
      "mean                         7.441667                 7.975000   \n",
      "std                          0.941979                 0.329566   \n",
      "min                          6.000000                 7.000000   \n",
      "25%                          7.000000                 8.000000   \n",
      "50%                          7.000000                 8.000000   \n",
      "75%                          8.000000                 8.000000   \n",
      "max                          9.000000                 9.000000   \n",
      "\n",
      "       Information Fidelity  Average Score  \n",
      "count            120.000000     120.000000  \n",
      "mean               8.900000       8.153333  \n",
      "std                0.301258       0.347605  \n",
      "min                8.000000       7.200000  \n",
      "25%                9.000000       8.200000  \n",
      "50%                9.000000       8.200000  \n",
      "75%                9.000000       8.200000  \n",
      "max                9.000000       8.800000  \n",
      "\n",
      "########################\n",
      "    Final Evaluation\n",
      "########################\n",
      "Prompt : \n",
      "To enhance the performance of the AI research assistant in future interactions on photosynthesis studies, the following specific actionable steps are recommended:\n",
      "\n",
      "1. Enhance Scientific Accuracy and Depth:\n",
      "- Provide specific examples or case studies related to the topic to support claims and explanations.\n",
      "- Delve deeper into specific mechanisms and processes related to photosynthesis.\n",
      "- Incorporate more recent research findings and advancements in the field to ensure up-to-date and accurate information.\n",
      "\n",
      "2. Alignment with Research Objectives:\n",
      "- Clearly define and address the specific research objectives within plant physiology and photosynthesis in each response.\n",
      "- Link the discussion to broader research goals and focus on how the information provided contributes to advancements in the field.\n",
      "- Discuss potential research gaps or innovative approaches to further align with research objectives.\n",
      "\n",
      "3. Source Clarity and Reliability:\n",
      "- Ensure all sources cited are clearly referenced and directly support the information provided.\n",
      "- Incorporate more recent studies or data sets to enhance credibility and reliability.\n",
      "- Explicitly mention the studies or data sets that support the information to improve source clarity.\n",
      "\n",
      "4. Professional Engagement:\n",
      "- Maintain a consistent professional tone and structure in the responses, suitable for academic discussions among experts in plant physiology.\n",
      "- Use precise language and technical terms related to photosynthesis processes to engage with the audience effectively.\n",
      "- Provide detailed information with high fidelity to demonstrate expertise and credibility in the field.\n",
      "\n",
      "5. Information Fidelity:\n",
      "- Cross-reference the details provided with recent literature to ensure accuracy and relevance in addressing the challenges and mechanisms related to photosynthesis.\n",
      "- Verify the information fidelity by citing specific studies or data sets and avoiding potential errors or inaccuracies in the responses.\n",
      "- Focus on providing accurate and reliable information by incorporating credible sources and maintaining a high standard of information fidelity.\n",
      "\n",
      "By following these guidelines and focusing on improving scientific accuracy, alignment with research objectives, source clarity and reliability, professional engagement, and information fidelity, the AI research assistant can enhance its performance in providing insightful and accurate responses on photosynthesis studies.\n",
      "\n",
      "Inference ..................\n"
     ]
    },
    {
     "data": {
      "application/vnd.jupyter.widget-view+json": {
       "model_id": "10aabf19ec484f619f42b4086b6c6b35",
       "version_major": 2,
       "version_minor": 0
      },
      "text/plain": [
       "  0%|          | 0/30 [00:00<?, ?it/s]"
      ]
     },
     "metadata": {},
     "output_type": "display_data"
    },
    {
     "name": "stdout",
     "output_type": "stream",
     "text": [
      "Evaluation ..................\n"
     ]
    },
    {
     "data": {
      "application/vnd.jupyter.widget-view+json": {
       "model_id": "5977dedd13d14dc1a9ab88c87e2774f2",
       "version_major": 2,
       "version_minor": 0
      },
      "text/plain": [
       "  0%|          | 0/30 [00:00<?, ?it/s]"
      ]
     },
     "metadata": {},
     "output_type": "display_data"
    },
    {
     "name": "stdout",
     "output_type": "stream",
     "text": [
      "list index out of range\n"
     ]
    },
    {
     "data": {
      "application/vnd.jupyter.widget-view+json": {
       "model_id": "b44b556a437e482480befcffba8153d2",
       "version_major": 2,
       "version_minor": 0
      },
      "text/plain": [
       "  0%|          | 0/1 [00:00<?, ?it/s]"
      ]
     },
     "metadata": {},
     "output_type": "display_data"
    },
    {
     "name": "stdout",
     "output_type": "stream",
     "text": [
      "N of Fail : 6\n",
      "Score Distribution ..................\n",
      "       Scientific Accuracy and Depth  Alignment with Research Objectives  \\\n",
      "count                      30.000000                           30.000000   \n",
      "mean                        8.166667                            8.133333   \n",
      "std                         0.379049                            2.431593   \n",
      "min                         8.000000                            1.000000   \n",
      "25%                         8.000000                            9.000000   \n",
      "50%                         8.000000                            9.000000   \n",
      "75%                         8.000000                            9.000000   \n",
      "max                         9.000000                            9.000000   \n",
      "\n",
      "       Source Clarity and Reliability  Professional Engagement  \\\n",
      "count                       30.000000                30.000000   \n",
      "mean                         7.333333                 8.066667   \n",
      "std                          0.660895                 0.365148   \n",
      "min                          7.000000                 7.000000   \n",
      "25%                          7.000000                 8.000000   \n",
      "50%                          7.000000                 8.000000   \n",
      "75%                          7.000000                 8.000000   \n",
      "max                          9.000000                 9.000000   \n",
      "\n",
      "       Information Fidelity  Average Score  \n",
      "count                  30.0      30.000000  \n",
      "mean                    9.0       8.140000  \n",
      "std                     0.0       0.340992  \n",
      "min                     9.0       7.200000  \n",
      "25%                     9.0       8.200000  \n",
      "50%                     9.0       8.200000  \n",
      "75%                     9.0       8.200000  \n",
      "max                     9.0       8.600000  \n",
      "\n"
     ]
    }
   ],
   "source": [
    "if __name__ == \"__main__\":\n",
    "    # Initialize data repository and load initial dataset\n",
    "    data_repo = DataRepository(DATA_PATH)\n",
    "    df = data_repo.load_data(file_name = 'photosyn_qa_dataset.pickle')\n",
    "\n",
    "    # Initialize prompt optimization and run the pipeline\n",
    "    prompt_optimizer = PromptOptimization()\n",
    "    final_train_df, final_test_df, prompt_history = prompt_optimizer.run(df, num_iterations=10, save_data = True)"
   ]
  },
  {
   "cell_type": "code",
   "execution_count": null,
   "id": "5cedf34c-0ff1-4344-91a8-a88064748429",
   "metadata": {},
   "outputs": [],
   "source": []
  }
 ],
 "metadata": {
  "kernelspec": {
   "display_name": "llm",
   "language": "python",
   "name": "llm"
  },
  "language_info": {
   "codemirror_mode": {
    "name": "ipython",
    "version": 3
   },
   "file_extension": ".py",
   "mimetype": "text/x-python",
   "name": "python",
   "nbconvert_exporter": "python",
   "pygments_lexer": "ipython3",
   "version": "3.10.13"
  }
 },
 "nbformat": 4,
 "nbformat_minor": 5
}
